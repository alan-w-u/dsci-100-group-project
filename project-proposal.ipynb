{
 "cells": [
  {
   "cell_type": "markdown",
   "id": "05d74c96-b852-4322-bad5-50011f8e6f0d",
   "metadata": {},
   "source": [
    "## DSCI 100 Group Project Proposal ##"
   ]
  },
  {
   "cell_type": "markdown",
   "id": "9f933615-abbd-445e-a75b-a6e82f597b37",
   "metadata": {},
   "source": [
    "By: Alessandra Lu, Ruby Suo, Han Wei, Alan Wu"
   ]
  },
  {
   "cell_type": "markdown",
   "id": "69bd43e2-fa20-4dbe-a3e2-a5079b5c64e8",
   "metadata": {},
   "source": [
    "#### Introduction ####\n",
    "\n",
    "**Question:** "
   ]
  },
  {
   "cell_type": "markdown",
   "id": "9145bbfe-7a32-4480-9697-969a534f1c68",
   "metadata": {},
   "source": [
    "#### Preliminary Exploratory Data Analysis ####"
   ]
  },
  {
   "cell_type": "code",
   "execution_count": 5,
   "id": "2daf0a54-32e9-4e57-9de8-562f7ad27e04",
   "metadata": {},
   "outputs": [],
   "source": [
    "library(tidyverse)\n",
    "library(repr)\n",
    "library(tidymodels)\n",
    "options(repr.matrix.max.rows = 6)\n",
    "library(dbplyr)"
   ]
  },
  {
   "cell_type": "code",
   "execution_count": 9,
   "id": "854ed6c2-87f9-470a-ae3d-f189069df7b3",
   "metadata": {},
   "outputs": [
    {
     "name": "stderr",
     "output_type": "stream",
     "text": [
      "\u001b[1mRows: \u001b[22m\u001b[34m395\u001b[39m \u001b[1mColumns: \u001b[22m\u001b[34m33\u001b[39m\n",
      "\u001b[36m──\u001b[39m \u001b[1mColumn specification\u001b[22m \u001b[36m────────────────────────────────────────────────────────\u001b[39m\n",
      "\u001b[1mDelimiter:\u001b[22m \";\"\n",
      "\u001b[31mchr\u001b[39m (17): school, sex, address, famsize, Pstatus, Mjob, Fjob, reason, guardi...\n",
      "\u001b[32mdbl\u001b[39m (16): age, Medu, Fedu, traveltime, studytime, failures, famrel, freetime...\n",
      "\n",
      "\u001b[36mℹ\u001b[39m Use `spec()` to retrieve the full column specification for this data.\n",
      "\u001b[36mℹ\u001b[39m Specify the column types or set `show_col_types = FALSE` to quiet this message.\n"
     ]
    },
    {
     "data": {
      "text/html": [
       "<table class=\"dataframe\">\n",
       "<caption>A spec_tbl_df: 395 × 33</caption>\n",
       "<thead>\n",
       "\t<tr><th scope=col>school</th><th scope=col>sex</th><th scope=col>age</th><th scope=col>address</th><th scope=col>famsize</th><th scope=col>Pstatus</th><th scope=col>Medu</th><th scope=col>Fedu</th><th scope=col>Mjob</th><th scope=col>Fjob</th><th scope=col>⋯</th><th scope=col>famrel</th><th scope=col>freetime</th><th scope=col>goout</th><th scope=col>Dalc</th><th scope=col>Walc</th><th scope=col>health</th><th scope=col>absences</th><th scope=col>G1</th><th scope=col>G2</th><th scope=col>G3</th></tr>\n",
       "\t<tr><th scope=col>&lt;chr&gt;</th><th scope=col>&lt;chr&gt;</th><th scope=col>&lt;dbl&gt;</th><th scope=col>&lt;chr&gt;</th><th scope=col>&lt;chr&gt;</th><th scope=col>&lt;chr&gt;</th><th scope=col>&lt;dbl&gt;</th><th scope=col>&lt;dbl&gt;</th><th scope=col>&lt;chr&gt;</th><th scope=col>&lt;chr&gt;</th><th scope=col>⋯</th><th scope=col>&lt;dbl&gt;</th><th scope=col>&lt;dbl&gt;</th><th scope=col>&lt;dbl&gt;</th><th scope=col>&lt;dbl&gt;</th><th scope=col>&lt;dbl&gt;</th><th scope=col>&lt;dbl&gt;</th><th scope=col>&lt;dbl&gt;</th><th scope=col>&lt;dbl&gt;</th><th scope=col>&lt;dbl&gt;</th><th scope=col>&lt;dbl&gt;</th></tr>\n",
       "</thead>\n",
       "<tbody>\n",
       "\t<tr><td>GP</td><td>F</td><td>18</td><td>U</td><td>GT3</td><td>A</td><td>4</td><td>4</td><td>at_home</td><td>teacher</td><td>⋯</td><td>4</td><td>3</td><td>4</td><td>1</td><td>1</td><td>3</td><td> 6</td><td>5</td><td>6</td><td> 6</td></tr>\n",
       "\t<tr><td>GP</td><td>F</td><td>17</td><td>U</td><td>GT3</td><td>T</td><td>1</td><td>1</td><td>at_home</td><td>other  </td><td>⋯</td><td>5</td><td>3</td><td>3</td><td>1</td><td>1</td><td>3</td><td> 4</td><td>5</td><td>5</td><td> 6</td></tr>\n",
       "\t<tr><td>GP</td><td>F</td><td>15</td><td>U</td><td>LE3</td><td>T</td><td>1</td><td>1</td><td>at_home</td><td>other  </td><td>⋯</td><td>4</td><td>3</td><td>2</td><td>2</td><td>3</td><td>3</td><td>10</td><td>7</td><td>8</td><td>10</td></tr>\n",
       "\t<tr><td>⋮</td><td>⋮</td><td>⋮</td><td>⋮</td><td>⋮</td><td>⋮</td><td>⋮</td><td>⋮</td><td>⋮</td><td>⋮</td><td>⋱</td><td>⋮</td><td>⋮</td><td>⋮</td><td>⋮</td><td>⋮</td><td>⋮</td><td>⋮</td><td>⋮</td><td>⋮</td><td>⋮</td></tr>\n",
       "\t<tr><td>MS</td><td>M</td><td>21</td><td>R</td><td>GT3</td><td>T</td><td>1</td><td>1</td><td>other   </td><td>other  </td><td>⋯</td><td>5</td><td>5</td><td>3</td><td>3</td><td>3</td><td>3</td><td>3</td><td>10</td><td> 8</td><td> 7</td></tr>\n",
       "\t<tr><td>MS</td><td>M</td><td>18</td><td>R</td><td>LE3</td><td>T</td><td>3</td><td>2</td><td>services</td><td>other  </td><td>⋯</td><td>4</td><td>4</td><td>1</td><td>3</td><td>4</td><td>5</td><td>0</td><td>11</td><td>12</td><td>10</td></tr>\n",
       "\t<tr><td>MS</td><td>M</td><td>19</td><td>U</td><td>LE3</td><td>T</td><td>1</td><td>1</td><td>other   </td><td>at_home</td><td>⋯</td><td>3</td><td>2</td><td>3</td><td>3</td><td>3</td><td>5</td><td>5</td><td> 8</td><td> 9</td><td> 9</td></tr>\n",
       "</tbody>\n",
       "</table>\n"
      ],
      "text/latex": [
       "A spec\\_tbl\\_df: 395 × 33\n",
       "\\begin{tabular}{lllllllllllllllllllll}\n",
       " school & sex & age & address & famsize & Pstatus & Medu & Fedu & Mjob & Fjob & ⋯ & famrel & freetime & goout & Dalc & Walc & health & absences & G1 & G2 & G3\\\\\n",
       " <chr> & <chr> & <dbl> & <chr> & <chr> & <chr> & <dbl> & <dbl> & <chr> & <chr> & ⋯ & <dbl> & <dbl> & <dbl> & <dbl> & <dbl> & <dbl> & <dbl> & <dbl> & <dbl> & <dbl>\\\\\n",
       "\\hline\n",
       "\t GP & F & 18 & U & GT3 & A & 4 & 4 & at\\_home & teacher & ⋯ & 4 & 3 & 4 & 1 & 1 & 3 &  6 & 5 & 6 &  6\\\\\n",
       "\t GP & F & 17 & U & GT3 & T & 1 & 1 & at\\_home & other   & ⋯ & 5 & 3 & 3 & 1 & 1 & 3 &  4 & 5 & 5 &  6\\\\\n",
       "\t GP & F & 15 & U & LE3 & T & 1 & 1 & at\\_home & other   & ⋯ & 4 & 3 & 2 & 2 & 3 & 3 & 10 & 7 & 8 & 10\\\\\n",
       "\t ⋮ & ⋮ & ⋮ & ⋮ & ⋮ & ⋮ & ⋮ & ⋮ & ⋮ & ⋮ & ⋱ & ⋮ & ⋮ & ⋮ & ⋮ & ⋮ & ⋮ & ⋮ & ⋮ & ⋮ & ⋮\\\\\n",
       "\t MS & M & 21 & R & GT3 & T & 1 & 1 & other    & other   & ⋯ & 5 & 5 & 3 & 3 & 3 & 3 & 3 & 10 &  8 &  7\\\\\n",
       "\t MS & M & 18 & R & LE3 & T & 3 & 2 & services & other   & ⋯ & 4 & 4 & 1 & 3 & 4 & 5 & 0 & 11 & 12 & 10\\\\\n",
       "\t MS & M & 19 & U & LE3 & T & 1 & 1 & other    & at\\_home & ⋯ & 3 & 2 & 3 & 3 & 3 & 5 & 5 &  8 &  9 &  9\\\\\n",
       "\\end{tabular}\n"
      ],
      "text/markdown": [
       "\n",
       "A spec_tbl_df: 395 × 33\n",
       "\n",
       "| school &lt;chr&gt; | sex &lt;chr&gt; | age &lt;dbl&gt; | address &lt;chr&gt; | famsize &lt;chr&gt; | Pstatus &lt;chr&gt; | Medu &lt;dbl&gt; | Fedu &lt;dbl&gt; | Mjob &lt;chr&gt; | Fjob &lt;chr&gt; | ⋯ ⋯ | famrel &lt;dbl&gt; | freetime &lt;dbl&gt; | goout &lt;dbl&gt; | Dalc &lt;dbl&gt; | Walc &lt;dbl&gt; | health &lt;dbl&gt; | absences &lt;dbl&gt; | G1 &lt;dbl&gt; | G2 &lt;dbl&gt; | G3 &lt;dbl&gt; |\n",
       "|---|---|---|---|---|---|---|---|---|---|---|---|---|---|---|---|---|---|---|---|---|\n",
       "| GP | F | 18 | U | GT3 | A | 4 | 4 | at_home | teacher | ⋯ | 4 | 3 | 4 | 1 | 1 | 3 |  6 | 5 | 6 |  6 |\n",
       "| GP | F | 17 | U | GT3 | T | 1 | 1 | at_home | other   | ⋯ | 5 | 3 | 3 | 1 | 1 | 3 |  4 | 5 | 5 |  6 |\n",
       "| GP | F | 15 | U | LE3 | T | 1 | 1 | at_home | other   | ⋯ | 4 | 3 | 2 | 2 | 3 | 3 | 10 | 7 | 8 | 10 |\n",
       "| ⋮ | ⋮ | ⋮ | ⋮ | ⋮ | ⋮ | ⋮ | ⋮ | ⋮ | ⋮ | ⋱ | ⋮ | ⋮ | ⋮ | ⋮ | ⋮ | ⋮ | ⋮ | ⋮ | ⋮ | ⋮ |\n",
       "| MS | M | 21 | R | GT3 | T | 1 | 1 | other    | other   | ⋯ | 5 | 5 | 3 | 3 | 3 | 3 | 3 | 10 |  8 |  7 |\n",
       "| MS | M | 18 | R | LE3 | T | 3 | 2 | services | other   | ⋯ | 4 | 4 | 1 | 3 | 4 | 5 | 0 | 11 | 12 | 10 |\n",
       "| MS | M | 19 | U | LE3 | T | 1 | 1 | other    | at_home | ⋯ | 3 | 2 | 3 | 3 | 3 | 5 | 5 |  8 |  9 |  9 |\n",
       "\n"
      ],
      "text/plain": [
       "    school sex age address famsize Pstatus Medu Fedu Mjob     Fjob    ⋯ famrel\n",
       "1   GP     F   18  U       GT3     A       4    4    at_home  teacher ⋯ 4     \n",
       "2   GP     F   17  U       GT3     T       1    1    at_home  other   ⋯ 5     \n",
       "3   GP     F   15  U       LE3     T       1    1    at_home  other   ⋯ 4     \n",
       "⋮   ⋮      ⋮   ⋮   ⋮       ⋮       ⋮       ⋮    ⋮    ⋮        ⋮       ⋱ ⋮     \n",
       "393 MS     M   21  R       GT3     T       1    1    other    other   ⋯ 5     \n",
       "394 MS     M   18  R       LE3     T       3    2    services other   ⋯ 4     \n",
       "395 MS     M   19  U       LE3     T       1    1    other    at_home ⋯ 3     \n",
       "    freetime goout Dalc Walc health absences G1 G2 G3\n",
       "1   3        4     1    1    3       6       5  6   6\n",
       "2   3        3     1    1    3       4       5  5   6\n",
       "3   3        2     2    3    3      10       7  8  10\n",
       "⋮   ⋮        ⋮     ⋮    ⋮    ⋮      ⋮        ⋮  ⋮  ⋮ \n",
       "393 5        3     3    3    3      3        10  8  7\n",
       "394 4        1     3    4    5      0        11 12 10\n",
       "395 2        3     3    3    5      5         8  9  9"
      ]
     },
     "metadata": {},
     "output_type": "display_data"
    },
    {
     "data": {
      "text/html": [
       "<table class=\"dataframe\">\n",
       "<caption>A tibble: 2370 × 29</caption>\n",
       "<thead>\n",
       "\t<tr><th scope=col>school</th><th scope=col>sex</th><th scope=col>age</th><th scope=col>address</th><th scope=col>famsize</th><th scope=col>Pstatus</th><th scope=col>Medu</th><th scope=col>Fedu</th><th scope=col>Mjob</th><th scope=col>Fjob</th><th scope=col>⋯</th><th scope=col>nursery</th><th scope=col>higher</th><th scope=col>internet</th><th scope=col>romantic</th><th scope=col>absences</th><th scope=col>G1</th><th scope=col>G2</th><th scope=col>G3</th><th scope=col>factor</th><th scope=col>actual</th></tr>\n",
       "\t<tr><th scope=col>&lt;chr&gt;</th><th scope=col>&lt;chr&gt;</th><th scope=col>&lt;dbl&gt;</th><th scope=col>&lt;chr&gt;</th><th scope=col>&lt;chr&gt;</th><th scope=col>&lt;chr&gt;</th><th scope=col>&lt;dbl&gt;</th><th scope=col>&lt;dbl&gt;</th><th scope=col>&lt;chr&gt;</th><th scope=col>&lt;chr&gt;</th><th scope=col>⋯</th><th scope=col>&lt;chr&gt;</th><th scope=col>&lt;chr&gt;</th><th scope=col>&lt;chr&gt;</th><th scope=col>&lt;chr&gt;</th><th scope=col>&lt;dbl&gt;</th><th scope=col>&lt;dbl&gt;</th><th scope=col>&lt;dbl&gt;</th><th scope=col>&lt;dbl&gt;</th><th scope=col>&lt;chr&gt;</th><th scope=col>&lt;dbl&gt;</th></tr>\n",
       "</thead>\n",
       "<tbody>\n",
       "\t<tr><td>GP</td><td>F</td><td>18</td><td>U</td><td>GT3</td><td>A</td><td>4</td><td>4</td><td>at_home</td><td>teacher</td><td>⋯</td><td>yes</td><td>yes</td><td>no</td><td>no</td><td>6</td><td>5</td><td>6</td><td>6</td><td>famrel  </td><td>4</td></tr>\n",
       "\t<tr><td>GP</td><td>F</td><td>18</td><td>U</td><td>GT3</td><td>A</td><td>4</td><td>4</td><td>at_home</td><td>teacher</td><td>⋯</td><td>yes</td><td>yes</td><td>no</td><td>no</td><td>6</td><td>5</td><td>6</td><td>6</td><td>freetime</td><td>3</td></tr>\n",
       "\t<tr><td>GP</td><td>F</td><td>18</td><td>U</td><td>GT3</td><td>A</td><td>4</td><td>4</td><td>at_home</td><td>teacher</td><td>⋯</td><td>yes</td><td>yes</td><td>no</td><td>no</td><td>6</td><td>5</td><td>6</td><td>6</td><td>goout   </td><td>4</td></tr>\n",
       "\t<tr><td>⋮</td><td>⋮</td><td>⋮</td><td>⋮</td><td>⋮</td><td>⋮</td><td>⋮</td><td>⋮</td><td>⋮</td><td>⋮</td><td>⋱</td><td>⋮</td><td>⋮</td><td>⋮</td><td>⋮</td><td>⋮</td><td>⋮</td><td>⋮</td><td>⋮</td><td>⋮</td><td>⋮</td></tr>\n",
       "\t<tr><td>MS</td><td>M</td><td>19</td><td>U</td><td>LE3</td><td>T</td><td>1</td><td>1</td><td>other</td><td>at_home</td><td>⋯</td><td>yes</td><td>yes</td><td>yes</td><td>no</td><td>5</td><td>8</td><td>9</td><td>9</td><td>Dalc  </td><td>3</td></tr>\n",
       "\t<tr><td>MS</td><td>M</td><td>19</td><td>U</td><td>LE3</td><td>T</td><td>1</td><td>1</td><td>other</td><td>at_home</td><td>⋯</td><td>yes</td><td>yes</td><td>yes</td><td>no</td><td>5</td><td>8</td><td>9</td><td>9</td><td>Walc  </td><td>3</td></tr>\n",
       "\t<tr><td>MS</td><td>M</td><td>19</td><td>U</td><td>LE3</td><td>T</td><td>1</td><td>1</td><td>other</td><td>at_home</td><td>⋯</td><td>yes</td><td>yes</td><td>yes</td><td>no</td><td>5</td><td>8</td><td>9</td><td>9</td><td>health</td><td>5</td></tr>\n",
       "</tbody>\n",
       "</table>\n"
      ],
      "text/latex": [
       "A tibble: 2370 × 29\n",
       "\\begin{tabular}{lllllllllllllllllllll}\n",
       " school & sex & age & address & famsize & Pstatus & Medu & Fedu & Mjob & Fjob & ⋯ & nursery & higher & internet & romantic & absences & G1 & G2 & G3 & factor & actual\\\\\n",
       " <chr> & <chr> & <dbl> & <chr> & <chr> & <chr> & <dbl> & <dbl> & <chr> & <chr> & ⋯ & <chr> & <chr> & <chr> & <chr> & <dbl> & <dbl> & <dbl> & <dbl> & <chr> & <dbl>\\\\\n",
       "\\hline\n",
       "\t GP & F & 18 & U & GT3 & A & 4 & 4 & at\\_home & teacher & ⋯ & yes & yes & no & no & 6 & 5 & 6 & 6 & famrel   & 4\\\\\n",
       "\t GP & F & 18 & U & GT3 & A & 4 & 4 & at\\_home & teacher & ⋯ & yes & yes & no & no & 6 & 5 & 6 & 6 & freetime & 3\\\\\n",
       "\t GP & F & 18 & U & GT3 & A & 4 & 4 & at\\_home & teacher & ⋯ & yes & yes & no & no & 6 & 5 & 6 & 6 & goout    & 4\\\\\n",
       "\t ⋮ & ⋮ & ⋮ & ⋮ & ⋮ & ⋮ & ⋮ & ⋮ & ⋮ & ⋮ & ⋱ & ⋮ & ⋮ & ⋮ & ⋮ & ⋮ & ⋮ & ⋮ & ⋮ & ⋮ & ⋮\\\\\n",
       "\t MS & M & 19 & U & LE3 & T & 1 & 1 & other & at\\_home & ⋯ & yes & yes & yes & no & 5 & 8 & 9 & 9 & Dalc   & 3\\\\\n",
       "\t MS & M & 19 & U & LE3 & T & 1 & 1 & other & at\\_home & ⋯ & yes & yes & yes & no & 5 & 8 & 9 & 9 & Walc   & 3\\\\\n",
       "\t MS & M & 19 & U & LE3 & T & 1 & 1 & other & at\\_home & ⋯ & yes & yes & yes & no & 5 & 8 & 9 & 9 & health & 5\\\\\n",
       "\\end{tabular}\n"
      ],
      "text/markdown": [
       "\n",
       "A tibble: 2370 × 29\n",
       "\n",
       "| school &lt;chr&gt; | sex &lt;chr&gt; | age &lt;dbl&gt; | address &lt;chr&gt; | famsize &lt;chr&gt; | Pstatus &lt;chr&gt; | Medu &lt;dbl&gt; | Fedu &lt;dbl&gt; | Mjob &lt;chr&gt; | Fjob &lt;chr&gt; | ⋯ ⋯ | nursery &lt;chr&gt; | higher &lt;chr&gt; | internet &lt;chr&gt; | romantic &lt;chr&gt; | absences &lt;dbl&gt; | G1 &lt;dbl&gt; | G2 &lt;dbl&gt; | G3 &lt;dbl&gt; | factor &lt;chr&gt; | actual &lt;dbl&gt; |\n",
       "|---|---|---|---|---|---|---|---|---|---|---|---|---|---|---|---|---|---|---|---|---|\n",
       "| GP | F | 18 | U | GT3 | A | 4 | 4 | at_home | teacher | ⋯ | yes | yes | no | no | 6 | 5 | 6 | 6 | famrel   | 4 |\n",
       "| GP | F | 18 | U | GT3 | A | 4 | 4 | at_home | teacher | ⋯ | yes | yes | no | no | 6 | 5 | 6 | 6 | freetime | 3 |\n",
       "| GP | F | 18 | U | GT3 | A | 4 | 4 | at_home | teacher | ⋯ | yes | yes | no | no | 6 | 5 | 6 | 6 | goout    | 4 |\n",
       "| ⋮ | ⋮ | ⋮ | ⋮ | ⋮ | ⋮ | ⋮ | ⋮ | ⋮ | ⋮ | ⋱ | ⋮ | ⋮ | ⋮ | ⋮ | ⋮ | ⋮ | ⋮ | ⋮ | ⋮ | ⋮ |\n",
       "| MS | M | 19 | U | LE3 | T | 1 | 1 | other | at_home | ⋯ | yes | yes | yes | no | 5 | 8 | 9 | 9 | Dalc   | 3 |\n",
       "| MS | M | 19 | U | LE3 | T | 1 | 1 | other | at_home | ⋯ | yes | yes | yes | no | 5 | 8 | 9 | 9 | Walc   | 3 |\n",
       "| MS | M | 19 | U | LE3 | T | 1 | 1 | other | at_home | ⋯ | yes | yes | yes | no | 5 | 8 | 9 | 9 | health | 5 |\n",
       "\n"
      ],
      "text/plain": [
       "     school sex age address famsize Pstatus Medu Fedu Mjob    Fjob    ⋯ nursery\n",
       "1    GP     F   18  U       GT3     A       4    4    at_home teacher ⋯ yes    \n",
       "2    GP     F   18  U       GT3     A       4    4    at_home teacher ⋯ yes    \n",
       "3    GP     F   18  U       GT3     A       4    4    at_home teacher ⋯ yes    \n",
       "⋮    ⋮      ⋮   ⋮   ⋮       ⋮       ⋮       ⋮    ⋮    ⋮       ⋮       ⋱ ⋮      \n",
       "2368 MS     M   19  U       LE3     T       1    1    other   at_home ⋯ yes    \n",
       "2369 MS     M   19  U       LE3     T       1    1    other   at_home ⋯ yes    \n",
       "2370 MS     M   19  U       LE3     T       1    1    other   at_home ⋯ yes    \n",
       "     higher internet romantic absences G1 G2 G3 factor   actual\n",
       "1    yes    no       no       6        5  6  6  famrel   4     \n",
       "2    yes    no       no       6        5  6  6  freetime 3     \n",
       "3    yes    no       no       6        5  6  6  goout    4     \n",
       "⋮    ⋮      ⋮        ⋮        ⋮        ⋮  ⋮  ⋮  ⋮        ⋮     \n",
       "2368 yes    yes      no       5        8  9  9  Dalc     3     \n",
       "2369 yes    yes      no       5        8  9  9  Walc     3     \n",
       "2370 yes    yes      no       5        8  9  9  health   5     "
      ]
     },
     "metadata": {},
     "output_type": "display_data"
    }
   ],
   "source": [
    "url <- \"https://raw.githubusercontent.com/alan-w-u/dsci-100-group-project/main/student-mat.csv\"\n",
    "data_raw <- read_delim(url, delim = \";\")\n",
    "data_raw\n",
    "data_tidied <- pivot_longer(data_raw, cols = famrel:health, names_to = \"factor\", values_to = \"actual\")\n",
    "data_tidied"
   ]
  },
  {
   "cell_type": "markdown",
   "id": "dfb0c127-c7cd-4b02-9581-4e9e24a968a1",
   "metadata": {},
   "source": [
    "#### Methods ####"
   ]
  },
  {
   "cell_type": "markdown",
   "id": "14705f1f-64a2-4513-a2bd-7339be120912",
   "metadata": {},
   "source": [
    "#### Expected Outcomes and Significance ####"
   ]
  },
  {
   "cell_type": "code",
   "execution_count": null,
   "id": "832cd2d6-4a9b-4a9f-aa7d-5fb242e4195b",
   "metadata": {},
   "outputs": [],
   "source": []
  },
  {
   "cell_type": "code",
   "execution_count": null,
   "id": "bd26230b-5fe7-4c76-bc95-27d9dcc707f7",
   "metadata": {},
   "outputs": [],
   "source": []
  },
  {
   "cell_type": "code",
   "execution_count": null,
   "id": "78f05aac-b47f-413d-a4db-eee41ffbebff",
   "metadata": {},
   "outputs": [],
   "source": []
  }
 ],
 "metadata": {
  "kernelspec": {
   "display_name": "R",
   "language": "R",
   "name": "ir"
  },
  "language_info": {
   "codemirror_mode": "r",
   "file_extension": ".r",
   "mimetype": "text/x-r-source",
   "name": "R",
   "pygments_lexer": "r",
   "version": "4.3.1"
  }
 },
 "nbformat": 4,
 "nbformat_minor": 5
}
